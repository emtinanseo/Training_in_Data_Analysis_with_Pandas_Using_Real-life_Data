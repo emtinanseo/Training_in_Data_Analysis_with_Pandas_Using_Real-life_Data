{
 "cells": [
  {
   "cell_type": "markdown",
   "id": "australian-january",
   "metadata": {},
   "source": [
    "# Comparing Data From Different Sources\n",
    "\n",
    "In this set of exercises we will attempt overlaying data from two sources:\n",
    "\n",
    "1. keybiotopes_habitatgroups_shapefiles:\n",
    "    - These shapefiles are the result of the last set of exercises analysing sksNyckelBiotoper_shapefiles. Both shapefiles display the locations and attributes of the key biotopes (Nyckelbiotoper) in Sweden.\n",
    "    - Key-biotopes are high conservation value forests mapped by The Swedish Forest Agency though field surveys. A database of approximately 67 000 areas, consisting of polygons. A polygon represents an area that was determined to have high conservation value.\n",
    "\n",
    "2. rutor_shapefiles:\n",
    "    - This folder contains shapefiles for a specific (square-shaped) area in Sweden, for which laser measurements and satellite data are available.\n",
    "    - The laser measurements are made using Lidar (light detection and ranging), an optical remote-sensing technique that uses laser light to densely sample the surface of the earth, producing highly accurate x, y, z measurements.\n",
    "    - Lidar measurements are stored in `.laz` files. These files exist separately, but their names are registered in rutor_shape_files.\n",
    "\n",
    "The overall goal is to use laser data (referenced in rutor_shapefiles) to study and identify key-biotopes (registered in sksNyckelBiotoper_shapefiles). So in this set of exercises we will find the intersection of these two datasets and study it."
   ]
  },
  {
   "cell_type": "markdown",
   "id": "cordless-observer",
   "metadata": {},
   "source": [
    "# Read The Data\n",
    "\n",
    "- To Do:\n",
    "\n",
    "1. Import necessary libraries and read both keybiotopes_habitatgroups_shapefiles and rutor_shapefiles."
   ]
  },
  {
   "cell_type": "code",
   "execution_count": null,
   "id": "graduate-maker",
   "metadata": {},
   "outputs": [],
   "source": []
  },
  {
   "cell_type": "markdown",
   "id": "owned-stable",
   "metadata": {},
   "source": [
    "# Explore and Filter\n",
    "\n",
    "- To Do:\n",
    "1. Explore the GeoDataFrames. What are the properties registered for the key-biotopes? What are the properties registered for the laser data?\n",
    "        - Each key-biotope is identified by a code 'Beteckn'.\n",
    "        - Each square-tile of laser data is identified by the coordinates of its south-west corner 'square'.\n",
    "\n",
    "2. Can you figure out what columns of non-geometric data are not relevant? Drop them.\n",
    "\n",
    "3. Before we can compare the geometries of these GeoDataFrames, we must make sure that the geometric objects are in the same coordinate system. (Use attributes `crs` attribute to read Coordinate Reference System)\n",
    "        - We won't need this here, but in case the two CRS were different we could use module `pyproj` to convert one to another.\n",
    "\n",
    "4. Laser measurements are provided for 2,5 km x 2,5 km square tiles. Check whether all of the tiles indeed have areas of 6.25 km$^2$."
   ]
  },
  {
   "cell_type": "code",
   "execution_count": null,
   "id": "superior-speaking",
   "metadata": {
    "scrolled": false
   },
   "outputs": [],
   "source": []
  },
  {
   "cell_type": "markdown",
   "id": "confident-click",
   "metadata": {},
   "source": [
    "## Plotting\n",
    "- To Do:\n",
    "1. Plot both geometries and then overlay them.\n",
    "        - Use `GeoPandas` plot function"
   ]
  },
  {
   "cell_type": "code",
   "execution_count": null,
   "id": "virtual-macintosh",
   "metadata": {},
   "outputs": [],
   "source": []
  },
  {
   "cell_type": "markdown",
   "id": "failing-decline",
   "metadata": {},
   "source": [
    "# Intersection\n",
    "\n",
    "The analysis we aim to -potentially- do will focus on the areas for which we have both kinds of data; ground surveys and laser measurement. In other words, the intersection of the plots we drew previously.\n",
    "\n",
    "- To Do:\n",
    "1. Get the intersection of the two GeoDataFrames' geometries.\n",
    "        - use `GeoPandas` overlay function.\n",
    "2. Get a GeoDataFrame of laser tiles that **don't** have key-biotopes.\n",
    "3. How many square-tiles include key-biotopes? (i.e. how many squares-tiles are in the intersection?)\n",
    "4. How many key-biotopes (of the total) are not covered by laser data (outside of the intersection)? What is the percentage of their area to the total?\n",
    "        - You can add a new column to each GeoDataFrame, called 'Area' for example, and fill it using the attribute `.Area` applied to 'geometry'"
   ]
  },
  {
   "cell_type": "code",
   "execution_count": null,
   "id": "developed-migration",
   "metadata": {},
   "outputs": [],
   "source": []
  },
  {
   "cell_type": "markdown",
   "id": "bdd177bf",
   "metadata": {},
   "source": [
    "# Groupby\n",
    "\n",
    "One important operation in `Pandas` (and `GeoPandas`) is `groupby`. It is used for splitting a dataset into groups, applying a function, and combining the results. We will employ it in the following:\n",
    "\n",
    "- To Do:\n",
    "1. For each square-tile of laser data, how much of its area is occupied by key-biotopes?\n",
    "2. Differentiate key-biotopes by their type, how many types are included in a square-tile? How much area is occupied by each habitat type?\n",
    "\n",
    "*In later sets of exercises we will load `.laz` files and analyse laser measurements stored within. We will search for patterns in the laser measurements corresponding to square-tiles which include key-biotopes -compared to tiles that have no key-biotopes.*"
   ]
  },
  {
   "cell_type": "code",
   "execution_count": null,
   "id": "30740818",
   "metadata": {
    "scrolled": true
   },
   "outputs": [],
   "source": []
  }
 ],
 "metadata": {
  "kernelspec": {
   "display_name": "geo_env",
   "language": "python",
   "name": "geo_env"
  },
  "language_info": {
   "codemirror_mode": {
    "name": "ipython",
    "version": 3
   },
   "file_extension": ".py",
   "mimetype": "text/x-python",
   "name": "python",
   "nbconvert_exporter": "python",
   "pygments_lexer": "ipython3",
   "version": "3.9.6"
  }
 },
 "nbformat": 4,
 "nbformat_minor": 5
}
