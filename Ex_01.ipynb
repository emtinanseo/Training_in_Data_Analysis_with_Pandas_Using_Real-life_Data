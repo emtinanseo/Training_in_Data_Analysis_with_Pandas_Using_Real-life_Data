{
 "cells": [
  {
   "cell_type": "markdown",
   "id": "complete-actress",
   "metadata": {},
   "source": [
    "# Getting Started with Pandas and GeoPandas"
   ]
  },
  {
   "cell_type": "markdown",
   "id": "caroline-portuguese",
   "metadata": {},
   "source": [
    "## Introduction \n",
    "`Pandas` is a python library for data analysis. It provides high-performance data structures and data analysis tools.\n",
    "\n",
    "`GeoPandas` extends the datatypes used by `pandas` to allow spatial operations on geometric types.\n",
    "\n",
    "- `Pandas` have tools for importing and exporting data from different formats: comma-separated value (CSV), text files, Microsoft Excel, SQL databases, and the fast HDF5 format.\n",
    "- `GeoPandas` reads data from file formats containing both data and geometry, e.g. GeoPackage, GeoJSON, Shapefile.\n",
    "\n",
    "For more information see [Pandas](https://pandas.pydata.org/pandas-docs/stable/user_guide/10min.html) and [GeoPandas](https://geopandas.readthedocs.io/en/latest/getting_started/introduction.html).\n",
    "\n",
    "These exercises will provide an introduction to many `Pandas` and `GeoPandas` tools through an analysis of data from The Swedish Forest Agency [Skogsstyrelsen](https://www.skogsstyrelsen.se/)."
   ]
  },
  {
   "cell_type": "markdown",
   "id": "wanted-contest",
   "metadata": {},
   "source": [
    "## Import Libraries"
   ]
  },
  {
   "cell_type": "markdown",
   "id": "executive-amount",
   "metadata": {},
   "source": [
    "Start by importing the libraries we need. That is `pandas` and `geopandas`, in addition to `numpy` and `matplotlib`."
   ]
  },
  {
   "cell_type": "code",
   "execution_count": null,
   "id": "otherwise-sixth",
   "metadata": {},
   "outputs": [],
   "source": []
  },
  {
   "cell_type": "markdown",
   "id": "thrown-polyester",
   "metadata": {},
   "source": [
    "## Download Data Files\n",
    "The learner is provided by a set of files:\n",
    "sksNycelBiotoper_shapefiles, \n",
    "attribute_table.csv, \n",
    "rutor_shapefiles, \n",
    "sweden_map_shapefiles,\n",
    "Grouping_of_biotopes.csv, \n",
    "laser_files.\n",
    "\n",
    "- To Do:\n",
    "1. For this set of exercises, download attribute_table.csv, sksNycelBiotoper_shapefiles, sweden_map_shapefiles and grouping_of_biotopes."
   ]
  },
  {
   "cell_type": "markdown",
   "id": "described-pennsylvania",
   "metadata": {},
   "source": [
    "# Reading Files\n",
    "\n",
    "## 1. DataFrame:\n",
    "DataFrame is a 2-dimensional labeled data structure in `Pandas`."
   ]
  },
  {
   "cell_type": "markdown",
   "id": "095f535d",
   "metadata": {},
   "source": [
    "Lets start with **attribute_table.csv**:\n",
    "- This file contains the attributes of key-biotopes (Nyckelbiotoper) in Sweden.\n",
    "- Key-biotopes are high conservation value forests mapped by The Swedish Forest Agency though field surveys. A database of approximately 67 000 areas, consisting of polygons. The polygon represents the area the field officer determined had high conservation value.\n",
    "- For each polygon, data has been gathered in the field on a number of qualities, such as tree-species composition, groundcover vegetation, type of habitat etc. Habitats are grouped into approximately 50 different types, based largely on tree species composition, topography, and proximity to water. See for more information about these habitat groups [here](https://www.skogsstyrelsen.se/miljo-och-klimat/biologisk-mangfald/nyckelbiotoper/biotoptyper/)"
   ]
  },
  {
   "cell_type": "markdown",
   "id": "1a7814a1",
   "metadata": {},
   "source": [
    "- To Do:\n",
    "1. Load **attribute_table.csv** into a DataFrame."
   ]
  },
  {
   "cell_type": "code",
   "execution_count": null,
   "id": "square-hartford",
   "metadata": {},
   "outputs": [],
   "source": []
  },
  {
   "cell_type": "markdown",
   "id": "painful-leadership",
   "metadata": {},
   "source": [
    "## Explore The Data\n",
    "\n",
    "- To Do:\n",
    "1. Explore and get descriptive statistics of all columns.\n",
    "    - Make use of `describe` and `plot` functions.\n",
    "2. How many key-biotopes are in each county 'Län'?\n",
    "    - Make use of `value_counts` function.\n",
    "3. Find the most common habitat type in the key-biotopes. Three habitats are registered for each key-biotope in the columns 'Biotop1', 'Biotop2' and 'Biotop3'.\n",
    "    - Make use of `stack` and `value_counts` functions.\n",
    "4. Clean the dataset from key-bishops that have no habitats registered.\n",
    "    - Make use of `dropna` function."
   ]
  },
  {
   "cell_type": "code",
   "execution_count": null,
   "id": "crazy-scanner",
   "metadata": {},
   "outputs": [],
   "source": []
  },
  {
   "cell_type": "markdown",
   "id": "24e01708",
   "metadata": {},
   "source": [
    "## 2. GeoDataFrame\n",
    "\n",
    "A GeoDataFrame is a data structure in `GeoPandas`. It is basically a `Pandas` DataFrame that has a column with geometry. \n",
    "\n",
    "Lets now study **sksNyckelBiotoper** shapefile:\n",
    "- This shapeful display the **locations** and attributes of key-biotopes in Sweden, i.e. it contains all the data in **attribute_table.csv** + locations of each key-biotope.\n",
    "\n",
    "- To Do:\n",
    "1. Read sksNyckelBiotoper shapefile into a GeoDataFrame and explore it.\n",
    "2. Clean the dataset from key-biotopes that have no habitats registered."
   ]
  },
  {
   "cell_type": "code",
   "execution_count": null,
   "id": "59fa65ff",
   "metadata": {},
   "outputs": [],
   "source": []
  },
  {
   "cell_type": "markdown",
   "id": "disciplinary-stephen",
   "metadata": {},
   "source": [
    "## Ploting on the map\n",
    "\n",
    "The most relevant information in shapefile is stored in the geometry. The best way to gain some feel of the data is to plot it.\n",
    "- To Do:\n",
    "1. Plot all key-biotopes in the shapefile.\n",
    "2. On the \"map\" you got in (1), what are the units drawn on x-axis and y-axis?\n",
    "- Examine the attribute `crs` (coordinate reference system) of the geodataframe.\n",
    "3. Visualize the key-biotopes over a map of Sweden. Here are two ways for you to do this:\n",
    "    1. Read sweden_map_shapefiles into a GeoDataFrame, and plot it with the key-biotopes\n",
    "    2. Make use of module `contextily` to draw a base-map\n",
    "In both cases make sure your maps have the same coordinate reference system. Geographic coordinate reference systems are identified by EPSG codes, for example sksNyckelBiotoper_shapefiles has the code epsg: 3006."
   ]
  },
  {
   "cell_type": "code",
   "execution_count": null,
   "id": "imperial-roulette",
   "metadata": {
    "scrolled": false
   },
   "outputs": [],
   "source": []
  },
  {
   "cell_type": "markdown",
   "id": "44d3fae9",
   "metadata": {},
   "source": [
    "# Groupings\n",
    "\n",
    "We have seen that key-biotopes contain habitats that are grouped into approximately 50 different types. However, for a general analysis, it might be beneficial to consolidate these types into a fewer groups. One example of such grouping is provided in 'grouping_of_biotopes.csv'.\n",
    "\n",
    "- To Do:\n",
    "1. Read **'grouping_of_biotopes.csv'** using `Pandas` tools. Get a dictionary for transforming each habitat type to the corresponding habitat group.\n",
    "2. Transform habitat types in the 3 columns 'Biotop1', 'Biotop2' and 'Biotop3' to their corresponding habitat groups. Add 3 new columns 'BioGrp1', 'BioGrp2' and 'BioGrp3' to hold these groups.\n",
    "3. Find the most common habitat-group in the key-biotopes. Avoid double counting.\n",
    "4. (Bonus) Visualize the distribution of the top 5 habitat-group on the map. Where is the distribution of deciduous hardwood forests (Ädellövskogar) concentrated? How does its distribution compare to that of coniferous forests (Barrskogar)?"
   ]
  },
  {
   "cell_type": "code",
   "execution_count": null,
   "id": "26f88e63",
   "metadata": {},
   "outputs": [],
   "source": []
  },
  {
   "cell_type": "markdown",
   "id": "14d6fc69",
   "metadata": {},
   "source": [
    "# Write\n",
    "\n",
    "In next exercises we will aim to analyse key-biotopes which contain certain habitat groups. Lets write the GeoDataFrame that include habitat groups for each key-biotopes into a shapefile and keep it for later analysis.\n",
    "\n",
    "- To Do:\n",
    "1.  Write the GeoDataFrame resulting from the previous section into a shapefile called 'keybiotopes_habitatgroups.shp'\n",
    "\n",
    "- To Do:\n",
    "1.  Write the GeoDataFrame resulting from the previous section into a shapefile called 'keybiotopes_habitatgroups.shp'"
   ]
  },
  {
   "cell_type": "code",
   "execution_count": null,
   "id": "45b88297",
   "metadata": {},
   "outputs": [],
   "source": []
  }
 ],
 "metadata": {
  "kernelspec": {
   "display_name": "geo_env",
   "language": "python",
   "name": "geo_env"
  },
  "language_info": {
   "codemirror_mode": {
    "name": "ipython",
    "version": 3
   },
   "file_extension": ".py",
   "mimetype": "text/x-python",
   "name": "python",
   "nbconvert_exporter": "python",
   "pygments_lexer": "ipython3",
   "version": "3.9.6"
  }
 },
 "nbformat": 4,
 "nbformat_minor": 5
}
