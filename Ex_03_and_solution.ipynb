{
 "cells": [
  {
   "cell_type": "markdown",
   "id": "77c35791",
   "metadata": {},
   "source": [
    "# Project \n",
    "\n",
    "## The Challenge\n",
    "The Swedish Forest Agency has mapped high conservation value forests, though field surveys. Approximately 67 000 areas (=nyckelbiotoper in Swedish) are delimited in the database.\n",
    "However, it is costly and time consuming to conduct field surveys. So it is proposed to consider national continuous cover datasets, such as the laser scanning, satellite images and aerial photos, to identify high conservation value forests.\n",
    "\n",
    "### The Problem:\n",
    "To know whether the database of forests with high conservation value (key-biotopes) could be used in machine learning to train a model to recognise similar forests. In particular, one need to answer the following:\n",
    "\n",
    "    - Is this dataset appropriate to use as training data?\n",
    "    - If yes, how should the data set be prepared to be optimal training data? For example:\n",
    "        - Should the dataset be divided into subsets of sites that exhibit similar characteristics? Which characteristics?\n",
    "        - Should the polygons be edited in some way to improve accuracy?\n",
    "    - Is more data needed?\n",
    "\n",
    "## Our Proposal\n",
    "We choose to divide key-biotopes by the types of habitats they contain. Then run a simple learning algorithm on Laser data (stored in `.laz` files) and see whether we can distinguish areas with that include particular Key-Biotopes from others.\n",
    "\n",
    "### Method:\n",
    "Laser measurements are available for square areas, 2.5 km X 2.5 km. To facilitate analysis, we will do it in steps:\n",
    "\n",
    "- **Step 1:** Divide these squares into smaller squares of equal areas (called henceforth tiles)\n",
    "- **Step 2:** Compute the percentage of area within a tile which is occupied by key-biotopes. Then, according to these percentages, label tiles for whether they contain key-bishops or not, i.e. a positive set and a negative set.\n",
    "- **Step 3:** From the laser data, compute a set of variables that characterize each tile.\n",
    "- **Step 4:** Apply a classification algorithm on the resulting dataset.\n",
    "\n",
    "### Choices:\n",
    "In the following we will only attempt a simplified application of the solution. There are several parameters which will affect the subsequent learning, and -in principle- they should be fine tuned systematically or through trial and error. Instead, we will just make some naive choices.\n",
    "\n",
    "1. We choose to analyse tiles that include coniferous forests (Barrskogar) as key-biotopes. You are welcome to pick a different habitat type."
   ]
  },
  {
   "cell_type": "code",
   "execution_count": 1,
   "id": "5ad00743",
   "metadata": {},
   "outputs": [],
   "source": [
    "HABITAT = 'Barrskogar'"
   ]
  },
  {
   "cell_type": "markdown",
   "id": "cb1744c4",
   "metadata": {},
   "source": [
    "2. Selecting the size of tiles.\n",
    "    - If the size is small (high resolution): one gets a bigger number of tiles to compare. There is a higher probability to get tiles that are fully covered by key-biotopes and hence their characteristics will correspond perfectly to key-biotopes. However, if the size is too small a tile might fail to capture the characteristics that define the key-biotope.\n",
    "    - If the size is big (low resolution): a tile with a bigger size might capture better the overall properties that define a key-biotope from everything else. Also a smaller dataset will be less expensive to analyse. However, if the size is too big we will lose all ability to differentiate key-biotopes.\n",
    "    \n",
    "We should try different sizes to systematically arrive to the optimum value. But, for simplicity, we will just select a to **divide each laser square into 10 X 10 smaller squares, i.e. tiles of size 250m X 250m.**"
   ]
  },
  {
   "cell_type": "code",
   "execution_count": 2,
   "id": "7e1fee23",
   "metadata": {},
   "outputs": [],
   "source": [
    "TILE_SIZE = 250*250 # in meters\n",
    "DIV_SIDE = 10 # divide each side of a laser square by this value\n",
    "DIV_AREA = 100 # divide the area into 100 squares"
   ]
  },
  {
   "cell_type": "markdown",
   "id": "9e9e6573",
   "metadata": {},
   "source": [
    "3. We choose to label a tile as containing a key-beat-up if 50% or more of its area is covered by key-biotopes."
   ]
  },
  {
   "cell_type": "code",
   "execution_count": 3,
   "id": "34fc0308",
   "metadata": {},
   "outputs": [],
   "source": [
    "THRESHOLD = 0.5"
   ]
  },
  {
   "cell_type": "markdown",
   "id": "856c162f",
   "metadata": {},
   "source": [
    "# Step 1:\n",
    "In this step we will be concerned with laser data referenced in 'rutor_shapefiles'. Remember 'rutor_shapefiles' describe square-shaped areas in Sweden for which laser measurements are available (and stored in `.laz` files). We aim to divide each square area into 100 equal square tiles.\n",
    "\n",
    "## 1.1 Load The Data, Explore and Filter\n",
    "- To Do:\n",
    "1. Import the necessary modules.\n",
    "2. Load 'rutor_shapefiles' into a GeoDataFrame.\n",
    "3. Explore the data, drop all uninformative columns. Note: in the following analysis, we also won't be needing any dates.\n",
    "4. Read Coordinate Reference System (CRS) of the GeoDataFrame. What are the units of distance in this CRS?\n",
    "5. Currently we only have access to laser data of the year 2020, i.e. folders (column 'Block') starting with the number '20' as in `20A012` to `20F050`. Filter your GeoDataFrame accordingly."
   ]
  },
  {
   "cell_type": "code",
   "execution_count": 4,
   "id": "86a2f204",
   "metadata": {},
   "outputs": [],
   "source": [
    "import geopandas as gpd\n",
    "import pandas as pd\n",
    "import numpy as np\n",
    "import matplotlib.pyplot as plt"
   ]
  },
  {
   "cell_type": "code",
   "execution_count": 5,
   "id": "58dea14d",
   "metadata": {
    "scrolled": false
   },
   "outputs": [
    {
     "name": "stdout",
     "output_type": "stream",
     "text": [
      "<class 'geopandas.geodataframe.GeoDataFrame'>\n",
      "RangeIndex: 21659 entries, 0 to 21658\n",
      "Data columns (total 24 columns):\n",
      " #   Column      Non-Null Count  Dtype   \n",
      "---  ------      --------------  -----   \n",
      " 0   id          21659 non-null  object  \n",
      " 1   datum       21656 non-null  object  \n",
      " 2   kommentar   0 non-null      object  \n",
      " 3   flyghojd    21654 non-null  object  \n",
      " 4   flyghastig  21653 non-null  object  \n",
      " 5   overtackni  21653 non-null  object  \n",
      " 6   punkttathe  21653 non-null  object  \n",
      " 7   skannerid   21653 non-null  object  \n",
      " 8   skannerfab  21653 non-null  object  \n",
      " 9   skannermod  21653 non-null  object  \n",
      " 10  oppningsvi  21653 non-null  object  \n",
      " 11  pulsfrekve  21653 non-null  object  \n",
      " 12  skanningsf  21653 non-null  object  \n",
      " 13  uteffekt    21653 non-null  object  \n",
      " 14  square      21659 non-null  object  \n",
      " 15  Block       21659 non-null  object  \n",
      " 16  SkannDat    21659 non-null  object  \n",
      " 17  N           21659 non-null  object  \n",
      " 18  E           21659 non-null  object  \n",
      " 19  Las_Namn    21659 non-null  object  \n",
      " 20  Skanner2    21659 non-null  float64 \n",
      " 21  Region      21659 non-null  float64 \n",
      " 22  LOV_AVL     21659 non-null  float64 \n",
      " 23  geometry    21659 non-null  geometry\n",
      "dtypes: float64(3), geometry(1), object(20)\n",
      "memory usage: 4.0+ MB\n"
     ]
    }
   ],
   "source": [
    "laser_gdf = gpd.read_file(\"files/rutor_shapefiles/rutor.shp\")\n",
    "laser_gdf.info()"
   ]
  },
  {
   "cell_type": "code",
   "execution_count": 6,
   "id": "939531aa",
   "metadata": {
    "scrolled": false
   },
   "outputs": [
    {
     "data": {
      "text/plain": [
       "id             1680\n",
       "datum           147\n",
       "kommentar         0\n",
       "flyghojd          1\n",
       "flyghastig        3\n",
       "overtackni        3\n",
       "punkttathe        4\n",
       "skannerid         2\n",
       "skannerfab        1\n",
       "skannermod        1\n",
       "oppningsvi        1\n",
       "pulsfrekve        1\n",
       "skanningsf        6\n",
       "uteffekt          1\n",
       "square        21659\n",
       "Block           112\n",
       "SkannDat        148\n",
       "N               477\n",
       "E               263\n",
       "Las_Namn      21659\n",
       "Skanner2          1\n",
       "Region            1\n",
       "LOV_AVL           2\n",
       "geometry      21659\n",
       "dtype: int64"
      ]
     },
     "execution_count": 6,
     "metadata": {},
     "output_type": "execute_result"
    }
   ],
   "source": [
    "laser_gdf.nunique() # columns with few unique values are most likely non informative."
   ]
  },
  {
   "cell_type": "code",
   "execution_count": 7,
   "id": "b4a99fcb",
   "metadata": {},
   "outputs": [],
   "source": [
    "uninforming_columns = [col for col in laser_gdf.columns if (laser_gdf[col].nunique() < 100)]\n",
    "uninforming_columns.extend(['id', 'datum', 'SkannDat'])\n",
    "laser_gdf = laser_gdf.drop(columns = uninforming_columns) # drop the uninforming_columns"
   ]
  },
  {
   "cell_type": "code",
   "execution_count": 8,
   "id": "81cbde5e",
   "metadata": {},
   "outputs": [
    {
     "data": {
      "text/plain": [
       "<Projected CRS: EPSG:3006>\n",
       "Name: SWEREF99 TM\n",
       "Axis Info [cartesian]:\n",
       "- N[north]: Northing (metre)\n",
       "- E[east]: Easting (metre)\n",
       "Area of Use:\n",
       "- name: Sweden - onshore and offshore.\n",
       "- bounds: (10.03, 54.96, 24.17, 69.07)\n",
       "Coordinate Operation:\n",
       "- name: SWEREF99 TM\n",
       "- method: Transverse Mercator\n",
       "Datum: SWEREF99\n",
       "- Ellipsoid: GRS 1980\n",
       "- Prime Meridian: Greenwich"
      ]
     },
     "execution_count": 8,
     "metadata": {},
     "output_type": "execute_result"
    }
   ],
   "source": [
    "laser_gdf.crs # distance is measured in meters"
   ]
  },
  {
   "cell_type": "code",
   "execution_count": 9,
   "id": "0cb0dfdd",
   "metadata": {},
   "outputs": [],
   "source": [
    "laser_gdf = laser_gdf[(laser_gdf.Block >= '20A012') & (laser_gdf.Block <= '20F050')]"
   ]
  },
  {
   "cell_type": "markdown",
   "id": "e7138401",
   "metadata": {},
   "source": [
    "## 1.2 Split\n",
    "- To Do:\n",
    "1. Write a function that produces a rectangular polygon from four values (x_min, y_min, x_max, y_max). (x_min, y_min) is lower left corner, and (x_max, y_max) is the upper right corner.\n",
    "        - Import the needed module from `shapely`.\n",
    "2. Similar to 1, write a function that returns a list of $nXn$ rectangles instead of one. $n$ is some integer.\n",
    "3. Write a function that produces a list of $nXn$ squares from a square polygon.\n",
    "        - `polygon.bounds` gives the values (x_min, y_min, x_max, y_max)\n",
    "4. Now utilize the function from the last point. Write a new empty GeoDataFrame. Fill its 'geometry' by dividing the polygons from the geometry of GeoDataFrame from the previous section. Add CRS information to the new GeoDataFrame.\n",
    "5. Fill the data of the new GeoDataFrame with the corresponding values from columns: 'square', 'Block', 'Las_Namn'. Add a new code to identify each tile."
   ]
  },
  {
   "cell_type": "code",
   "execution_count": 10,
   "id": "c529e4c9",
   "metadata": {},
   "outputs": [],
   "source": [
    "from shapely.geometry import Polygon"
   ]
  },
  {
   "cell_type": "code",
   "execution_count": 11,
   "id": "9cb47a23",
   "metadata": {},
   "outputs": [],
   "source": [
    "def rectangle(x_min, y_min, x_max, y_max):\n",
    "    return Polygon([[x_min, y_min], [x_max, y_min], [x_max, y_max], [x_min, y_max]])"
   ]
  },
  {
   "cell_type": "code",
   "execution_count": 12,
   "id": "1065197d",
   "metadata": {},
   "outputs": [],
   "source": [
    "def n_rectangles(x_min, y_min, x_max, y_max, n):\n",
    "    x_pts = np.linspace(x_min, x_max, n+1)\n",
    "    y_pts = np.linspace(y_min, y_max, n+1)\n",
    "    geo = []\n",
    "    for i in range(n):\n",
    "        for j in range(n):\n",
    "            geo.append(rectangle(x_pts[i], y_pts[j], x_pts[i+1], y_pts[j+1]))\n",
    "          \n",
    "    return geo\n",
    "\n",
    "def xy_indices(n):\n",
    "    x_ind = []\n",
    "    y_ind = []\n",
    "    \n",
    "    for i in range(n):\n",
    "        for j in range(n):\n",
    "            x_ind.append(i)\n",
    "            y_ind.append(j)\n",
    "            \n",
    "    return [x_ind, y_ind]"
   ]
  },
  {
   "cell_type": "code",
   "execution_count": 13,
   "id": "6b47e0ca",
   "metadata": {},
   "outputs": [],
   "source": [
    "def poly_to_squares(poly, n):\n",
    "    x_min, y_min, x_max, y_max = poly.bounds\n",
    "    return n_rectangles(x_min, y_min, x_max, y_max, n)"
   ]
  },
  {
   "cell_type": "code",
   "execution_count": 14,
   "id": "2332791c",
   "metadata": {},
   "outputs": [
    {
     "name": "stdout",
     "output_type": "stream",
     "text": [
      "Wall time: 22.2 s\n"
     ]
    }
   ],
   "source": [
    "%%time\n",
    "\n",
    "tiles_gdf = gpd.GeoDataFrame(data = {'square': [sq \n",
    "                                                for sq in laser_gdf.square for tile in range(DIV_AREA)],\n",
    "                                    'Block': [blk\n",
    "                                             for blk in laser_gdf.Block for tile in range(DIV_AREA)],\n",
    "                                    'Las_Namn': [nm\n",
    "                                                for nm in laser_gdf.Las_Namn for tile in range(DIV_AREA)],\n",
    "                                    'x': [x\n",
    "                                         for i in range(len(laser_gdf)) for x in xy_indices(DIV_SIDE)[0]],\n",
    "                                    'y': [y\n",
    "                                         for i in range(len(laser_gdf)) for y in xy_indices(DIV_SIDE)[1]],\n",
    "                                    'Tile_ID': [sq + '_x%.2i_y%.2i'%(ind[0], ind[1])\n",
    "                                               for sq in laser_gdf.square for ind in np.transpose(xy_indices(DIV_SIDE))]},\n",
    "                            geometry=[tile\n",
    "                                     for poly in laser_gdf.geometry for tile in poly_to_squares(poly, DIV_SIDE)],\n",
    "                            crs= 'epsg:3006')"
   ]
  },
  {
   "cell_type": "markdown",
   "id": "0bb9a89f",
   "metadata": {},
   "source": [
    "# Step 2:\n",
    "Now that we have divided the area into tiles, it's time to determine how much of their area is occupied by coniferous forests key-biotopes. Remember 'keybiotopes_habitatgroups_shapefiles':\n",
    "- These shapefiles are the result of the first set of exercises analysing sksNyckelBiotoper_shapefiles. Both shapefiles display the locations and attributes of the key biotopes (Nyckelbiotoper) in Sweden.\n",
    "\n",
    "In this step we will find the subset of key-biotopes that contain coniferous forests (a subset of 'keybiotopes_habitatgroups_shapefiles'), then find the intersection between this subset and the tiles from step 1.\n",
    "\n",
    "## 2.1 Load and Filter Data\n",
    "- To Do:\n",
    "1. Read 'keybiotopes_habitatgroups_shapefiles' into a GeoDataFrame.\n",
    "2. Find the subset of keybiotopes which include coniferous forests (Barrskogar)."
   ]
  },
  {
   "cell_type": "code",
   "execution_count": 15,
   "id": "63a5ded6",
   "metadata": {},
   "outputs": [
    {
     "name": "stdout",
     "output_type": "stream",
     "text": [
      "<class 'geopandas.geodataframe.GeoDataFrame'>\n",
      "RangeIndex: 66915 entries, 0 to 66914\n",
      "Data columns (total 24 columns):\n",
      " #   Column     Non-Null Count  Dtype   \n",
      "---  ------     --------------  -----   \n",
      " 0   Beteckn    66915 non-null  object  \n",
      " 1   LanKod     66915 non-null  object  \n",
      " 2   Lan        66915 non-null  object  \n",
      " 3   KommunKod  66915 non-null  object  \n",
      " 4   Kommun     66915 non-null  object  \n",
      " 5   Objnamn    56651 non-null  object  \n",
      " 6   Hektar     66915 non-null  float64 \n",
      " 7   Datinv     66915 non-null  object  \n",
      " 8   Biotop1    66907 non-null  object  \n",
      " 9   Biotop2    16493 non-null  object  \n",
      " 10  Biotop3    351 non-null    object  \n",
      " 11  Beskrivn1  60235 non-null  object  \n",
      " 12  Beskrivn2  47317 non-null  object  \n",
      " 13  Beskrivn3  32946 non-null  object  \n",
      " 14  Beskrivn4  20487 non-null  object  \n",
      " 15  Beskrivn5  12015 non-null  object  \n",
      " 16  Beskrivn6  6697 non-null   object  \n",
      " 17  Beskrivn7  3664 non-null   object  \n",
      " 18  Beskrivn8  1764 non-null   object  \n",
      " 19  Url        66915 non-null  object  \n",
      " 20  BioGrp1    66907 non-null  object  \n",
      " 21  BioGrp2    13678 non-null  object  \n",
      " 22  BioGrp3    238 non-null    object  \n",
      " 23  geometry   66915 non-null  geometry\n",
      "dtypes: float64(1), geometry(1), object(22)\n",
      "memory usage: 12.3+ MB\n"
     ]
    }
   ],
   "source": [
    "keybiotopes_gdf = gpd.read_file(\"files/keybiotopes_habitatgroups_shapefiles/keybiotopes_habitatgroups.shp\")\n",
    "keybiotopes_gdf.info()"
   ]
  },
  {
   "cell_type": "code",
   "execution_count": 16,
   "id": "d01976d3",
   "metadata": {},
   "outputs": [],
   "source": [
    "subset_gdf = keybiotopes_gdf[(keybiotopes_gdf.BioGrp1 == 'Barrskogar')|(keybiotopes_gdf.BioGrp2 == 'Barrskogar')|\n",
    "                                  (keybiotopes_gdf.BioGrp3 == 'Barrskogar')]"
   ]
  },
  {
   "cell_type": "code",
   "execution_count": 17,
   "id": "6d50d729",
   "metadata": {},
   "outputs": [],
   "source": [
    "subset_gdf = subset_gdf.loc[:, ['Beteckn', 'geometry']]"
   ]
  },
  {
   "cell_type": "markdown",
   "id": "569eb077",
   "metadata": {},
   "source": [
    "## 2.2 Intersection and Key-biotope Ratio\n",
    "- To Do:\n",
    "1. Find the intersection between the subset of key-biotopes and laser tiles.\n",
    "2. The area of each tile is TILE_SIZE, find the ratio occupied by key-biotopes for each tile\n",
    "        -  use function `groupby`\n",
    "3. Get a column with these ratios and add it to the GeoDataFrame of all tiles. Note tiles not in the intersection will have ratio = 0"
   ]
  },
  {
   "cell_type": "code",
   "execution_count": 18,
   "id": "0dfb802b",
   "metadata": {},
   "outputs": [
    {
     "name": "stdout",
     "output_type": "stream",
     "text": [
      "epsg:3006 epsg:3006\n"
     ]
    }
   ],
   "source": [
    "print(tiles_gdf.crs, subset_gdf.crs)"
   ]
  },
  {
   "cell_type": "code",
   "execution_count": 19,
   "id": "89d515bb",
   "metadata": {},
   "outputs": [],
   "source": [
    "intersection_gdf = gpd.overlay(tiles_gdf, subset_gdf, how= 'intersection')"
   ]
  },
  {
   "cell_type": "code",
   "execution_count": 20,
   "id": "1b15a6a5",
   "metadata": {},
   "outputs": [],
   "source": [
    "from shapely.ops import unary_union"
   ]
  },
  {
   "cell_type": "code",
   "execution_count": 21,
   "id": "2823bd58",
   "metadata": {},
   "outputs": [],
   "source": [
    "t = intersection_gdf.loc[:, ['Tile_ID', 'geometry']].groupby('Tile_ID').agg(lambda x: unary_union(x))"
   ]
  },
  {
   "cell_type": "code",
   "execution_count": 22,
   "id": "8673f906",
   "metadata": {},
   "outputs": [
    {
     "data": {
      "text/html": [
       "<div>\n",
       "<style scoped>\n",
       "    .dataframe tbody tr th:only-of-type {\n",
       "        vertical-align: middle;\n",
       "    }\n",
       "\n",
       "    .dataframe tbody tr th {\n",
       "        vertical-align: top;\n",
       "    }\n",
       "\n",
       "    .dataframe thead th {\n",
       "        text-align: right;\n",
       "    }\n",
       "</style>\n",
       "<table border=\"1\" class=\"dataframe\">\n",
       "  <thead>\n",
       "    <tr style=\"text-align: right;\">\n",
       "      <th></th>\n",
       "      <th>geometry</th>\n",
       "      <th>bio_ratio</th>\n",
       "    </tr>\n",
       "    <tr>\n",
       "      <th>Tile_ID</th>\n",
       "      <th></th>\n",
       "      <th></th>\n",
       "    </tr>\n",
       "  </thead>\n",
       "  <tbody>\n",
       "    <tr>\n",
       "      <th>62775_3750_25_x09_y02</th>\n",
       "      <td>MULTIPOLYGON (((377464.328 6278240.160, 377460...</td>\n",
       "      <td>0.047291</td>\n",
       "    </tr>\n",
       "    <tr>\n",
       "      <th>62775_3750_25_x09_y03</th>\n",
       "      <td>POLYGON ((377289.666 6278250.000, 377286.174 6...</td>\n",
       "      <td>0.454847</td>\n",
       "    </tr>\n",
       "    <tr>\n",
       "      <th>62775_3775_25_x00_y03</th>\n",
       "      <td>POLYGON ((377500.000 6278288.559, 377502.844 6...</td>\n",
       "      <td>0.001010</td>\n",
       "    </tr>\n",
       "    <tr>\n",
       "      <th>62825_3700_25_x03_y07</th>\n",
       "      <td>MULTIPOLYGON (((370942.366 6284302.254, 370937...</td>\n",
       "      <td>0.156014</td>\n",
       "    </tr>\n",
       "    <tr>\n",
       "      <th>62825_3700_25_x03_y08</th>\n",
       "      <td>MULTIPOLYGON (((370956.004 6284502.310, 370964...</td>\n",
       "      <td>0.369917</td>\n",
       "    </tr>\n",
       "    <tr>\n",
       "      <th>...</th>\n",
       "      <td>...</td>\n",
       "      <td>...</td>\n",
       "    </tr>\n",
       "    <tr>\n",
       "      <th>71475_8050_25_x08_y04</th>\n",
       "      <td>POLYGON ((807121.408 7148750.000, 807118.660 7...</td>\n",
       "      <td>0.183541</td>\n",
       "    </tr>\n",
       "    <tr>\n",
       "      <th>71475_8050_25_x08_y05</th>\n",
       "      <td>POLYGON ((807015.225 7148750.000, 807013.429 7...</td>\n",
       "      <td>0.351542</td>\n",
       "    </tr>\n",
       "    <tr>\n",
       "      <th>71475_8075_25_x03_y04</th>\n",
       "      <td>POLYGON ((808500.000 7148517.546, 808498.342 7...</td>\n",
       "      <td>0.326622</td>\n",
       "    </tr>\n",
       "    <tr>\n",
       "      <th>71475_8075_25_x04_y03</th>\n",
       "      <td>POLYGON ((808664.473 7148500.000, 808663.624 7...</td>\n",
       "      <td>0.048356</td>\n",
       "    </tr>\n",
       "    <tr>\n",
       "      <th>71475_8075_25_x04_y04</th>\n",
       "      <td>POLYGON ((808523.422 7148500.000, 808513.491 7...</td>\n",
       "      <td>0.408897</td>\n",
       "    </tr>\n",
       "  </tbody>\n",
       "</table>\n",
       "<p>11833 rows × 2 columns</p>\n",
       "</div>"
      ],
      "text/plain": [
       "                                                                geometry  \\\n",
       "Tile_ID                                                                    \n",
       "62775_3750_25_x09_y02  MULTIPOLYGON (((377464.328 6278240.160, 377460...   \n",
       "62775_3750_25_x09_y03  POLYGON ((377289.666 6278250.000, 377286.174 6...   \n",
       "62775_3775_25_x00_y03  POLYGON ((377500.000 6278288.559, 377502.844 6...   \n",
       "62825_3700_25_x03_y07  MULTIPOLYGON (((370942.366 6284302.254, 370937...   \n",
       "62825_3700_25_x03_y08  MULTIPOLYGON (((370956.004 6284502.310, 370964...   \n",
       "...                                                                  ...   \n",
       "71475_8050_25_x08_y04  POLYGON ((807121.408 7148750.000, 807118.660 7...   \n",
       "71475_8050_25_x08_y05  POLYGON ((807015.225 7148750.000, 807013.429 7...   \n",
       "71475_8075_25_x03_y04  POLYGON ((808500.000 7148517.546, 808498.342 7...   \n",
       "71475_8075_25_x04_y03  POLYGON ((808664.473 7148500.000, 808663.624 7...   \n",
       "71475_8075_25_x04_y04  POLYGON ((808523.422 7148500.000, 808513.491 7...   \n",
       "\n",
       "                       bio_ratio  \n",
       "Tile_ID                           \n",
       "62775_3750_25_x09_y02   0.047291  \n",
       "62775_3750_25_x09_y03   0.454847  \n",
       "62775_3775_25_x00_y03   0.001010  \n",
       "62825_3700_25_x03_y07   0.156014  \n",
       "62825_3700_25_x03_y08   0.369917  \n",
       "...                          ...  \n",
       "71475_8050_25_x08_y04   0.183541  \n",
       "71475_8050_25_x08_y05   0.351542  \n",
       "71475_8075_25_x03_y04   0.326622  \n",
       "71475_8075_25_x04_y03   0.048356  \n",
       "71475_8075_25_x04_y04   0.408897  \n",
       "\n",
       "[11833 rows x 2 columns]"
      ]
     },
     "execution_count": 22,
     "metadata": {},
     "output_type": "execute_result"
    }
   ],
   "source": [
    "t['bio_ratio'] = t.geometry.apply(lambda x: x.area/TILE_SIZE)\n",
    "t"
   ]
  },
  {
   "cell_type": "code",
   "execution_count": 23,
   "id": "679d144c",
   "metadata": {
    "scrolled": false
   },
   "outputs": [
    {
     "data": {
      "text/html": [
       "<div>\n",
       "<style scoped>\n",
       "    .dataframe tbody tr th:only-of-type {\n",
       "        vertical-align: middle;\n",
       "    }\n",
       "\n",
       "    .dataframe tbody tr th {\n",
       "        vertical-align: top;\n",
       "    }\n",
       "\n",
       "    .dataframe thead th {\n",
       "        text-align: right;\n",
       "    }\n",
       "</style>\n",
       "<table border=\"1\" class=\"dataframe\">\n",
       "  <thead>\n",
       "    <tr style=\"text-align: right;\">\n",
       "      <th></th>\n",
       "      <th>geometry</th>\n",
       "      <th>bio_ratio</th>\n",
       "    </tr>\n",
       "    <tr>\n",
       "      <th>Tile_ID</th>\n",
       "      <th></th>\n",
       "      <th></th>\n",
       "    </tr>\n",
       "  </thead>\n",
       "  <tbody>\n",
       "  </tbody>\n",
       "</table>\n",
       "</div>"
      ],
      "text/plain": [
       "Empty DataFrame\n",
       "Columns: [geometry, bio_ratio]\n",
       "Index: []"
      ]
     },
     "execution_count": 23,
     "metadata": {},
     "output_type": "execute_result"
    }
   ],
   "source": [
    "t[(t.bio_ratio > 1)| (t.bio_ratio <= 0)] # check that bio_ratio doesn't have strange values"
   ]
  },
  {
   "cell_type": "code",
   "execution_count": 24,
   "id": "35beade0",
   "metadata": {},
   "outputs": [],
   "source": [
    "tiles_gdf['bio_ratio'] = [0]*len(tiles_gdf)\n",
    "\n",
    "tiles_gdf.set_index('Tile_ID', inplace= True)\n",
    "\n",
    "tiles_gdf['bio_ratio'] = tiles_gdf['bio_ratio'].add(t['bio_ratio'], fill_value = 0)\n",
    "\n",
    "tiles_gdf.reset_index(inplace= True)"
   ]
  },
  {
   "cell_type": "code",
   "execution_count": 25,
   "id": "e8634a00",
   "metadata": {
    "scrolled": false
   },
   "outputs": [
    {
     "data": {
      "text/html": [
       "<div>\n",
       "<style scoped>\n",
       "    .dataframe tbody tr th:only-of-type {\n",
       "        vertical-align: middle;\n",
       "    }\n",
       "\n",
       "    .dataframe tbody tr th {\n",
       "        vertical-align: top;\n",
       "    }\n",
       "\n",
       "    .dataframe thead th {\n",
       "        text-align: right;\n",
       "    }\n",
       "</style>\n",
       "<table border=\"1\" class=\"dataframe\">\n",
       "  <thead>\n",
       "    <tr style=\"text-align: right;\">\n",
       "      <th></th>\n",
       "      <th>Tile_ID</th>\n",
       "      <th>square</th>\n",
       "      <th>Block</th>\n",
       "      <th>Las_Namn</th>\n",
       "      <th>x</th>\n",
       "      <th>y</th>\n",
       "      <th>geometry</th>\n",
       "      <th>bio_ratio</th>\n",
       "    </tr>\n",
       "  </thead>\n",
       "  <tbody>\n",
       "    <tr>\n",
       "      <th>0</th>\n",
       "      <td>65100_3175_25_x00_y00</td>\n",
       "      <td>65100_3175_25</td>\n",
       "      <td>20B022</td>\n",
       "      <td>20B022_65100_3175_25.laz.laz</td>\n",
       "      <td>0</td>\n",
       "      <td>0</td>\n",
       "      <td>POLYGON ((317500.000 6510000.000, 317750.000 6...</td>\n",
       "      <td>0.0</td>\n",
       "    </tr>\n",
       "    <tr>\n",
       "      <th>1</th>\n",
       "      <td>65100_3175_25_x00_y01</td>\n",
       "      <td>65100_3175_25</td>\n",
       "      <td>20B022</td>\n",
       "      <td>20B022_65100_3175_25.laz.laz</td>\n",
       "      <td>0</td>\n",
       "      <td>1</td>\n",
       "      <td>POLYGON ((317500.000 6510250.000, 317750.000 6...</td>\n",
       "      <td>0.0</td>\n",
       "    </tr>\n",
       "    <tr>\n",
       "      <th>2</th>\n",
       "      <td>65100_3175_25_x00_y02</td>\n",
       "      <td>65100_3175_25</td>\n",
       "      <td>20B022</td>\n",
       "      <td>20B022_65100_3175_25.laz.laz</td>\n",
       "      <td>0</td>\n",
       "      <td>2</td>\n",
       "      <td>POLYGON ((317500.000 6510500.000, 317750.000 6...</td>\n",
       "      <td>0.0</td>\n",
       "    </tr>\n",
       "    <tr>\n",
       "      <th>3</th>\n",
       "      <td>65100_3175_25_x00_y03</td>\n",
       "      <td>65100_3175_25</td>\n",
       "      <td>20B022</td>\n",
       "      <td>20B022_65100_3175_25.laz.laz</td>\n",
       "      <td>0</td>\n",
       "      <td>3</td>\n",
       "      <td>POLYGON ((317500.000 6510750.000, 317750.000 6...</td>\n",
       "      <td>0.0</td>\n",
       "    </tr>\n",
       "    <tr>\n",
       "      <th>4</th>\n",
       "      <td>65100_3175_25_x00_y04</td>\n",
       "      <td>65100_3175_25</td>\n",
       "      <td>20B022</td>\n",
       "      <td>20B022_65100_3175_25.laz.laz</td>\n",
       "      <td>0</td>\n",
       "      <td>4</td>\n",
       "      <td>POLYGON ((317500.000 6511000.000, 317750.000 6...</td>\n",
       "      <td>0.0</td>\n",
       "    </tr>\n",
       "    <tr>\n",
       "      <th>...</th>\n",
       "      <td>...</td>\n",
       "      <td>...</td>\n",
       "      <td>...</td>\n",
       "      <td>...</td>\n",
       "      <td>...</td>\n",
       "      <td>...</td>\n",
       "      <td>...</td>\n",
       "      <td>...</td>\n",
       "    </tr>\n",
       "    <tr>\n",
       "      <th>569595</th>\n",
       "      <td>70500_7275_25_x09_y05</td>\n",
       "      <td>70500_7275_25</td>\n",
       "      <td>20F035</td>\n",
       "      <td>20F035_70500_7275_25.laz.laz</td>\n",
       "      <td>9</td>\n",
       "      <td>5</td>\n",
       "      <td>POLYGON ((729750.000 7051250.000, 730000.000 7...</td>\n",
       "      <td>0.0</td>\n",
       "    </tr>\n",
       "    <tr>\n",
       "      <th>569596</th>\n",
       "      <td>70500_7275_25_x09_y06</td>\n",
       "      <td>70500_7275_25</td>\n",
       "      <td>20F035</td>\n",
       "      <td>20F035_70500_7275_25.laz.laz</td>\n",
       "      <td>9</td>\n",
       "      <td>6</td>\n",
       "      <td>POLYGON ((729750.000 7051500.000, 730000.000 7...</td>\n",
       "      <td>0.0</td>\n",
       "    </tr>\n",
       "    <tr>\n",
       "      <th>569597</th>\n",
       "      <td>70500_7275_25_x09_y07</td>\n",
       "      <td>70500_7275_25</td>\n",
       "      <td>20F035</td>\n",
       "      <td>20F035_70500_7275_25.laz.laz</td>\n",
       "      <td>9</td>\n",
       "      <td>7</td>\n",
       "      <td>POLYGON ((729750.000 7051750.000, 730000.000 7...</td>\n",
       "      <td>0.0</td>\n",
       "    </tr>\n",
       "    <tr>\n",
       "      <th>569598</th>\n",
       "      <td>70500_7275_25_x09_y08</td>\n",
       "      <td>70500_7275_25</td>\n",
       "      <td>20F035</td>\n",
       "      <td>20F035_70500_7275_25.laz.laz</td>\n",
       "      <td>9</td>\n",
       "      <td>8</td>\n",
       "      <td>POLYGON ((729750.000 7052000.000, 730000.000 7...</td>\n",
       "      <td>0.0</td>\n",
       "    </tr>\n",
       "    <tr>\n",
       "      <th>569599</th>\n",
       "      <td>70500_7275_25_x09_y09</td>\n",
       "      <td>70500_7275_25</td>\n",
       "      <td>20F035</td>\n",
       "      <td>20F035_70500_7275_25.laz.laz</td>\n",
       "      <td>9</td>\n",
       "      <td>9</td>\n",
       "      <td>POLYGON ((729750.000 7052250.000, 730000.000 7...</td>\n",
       "      <td>0.0</td>\n",
       "    </tr>\n",
       "  </tbody>\n",
       "</table>\n",
       "<p>569600 rows × 8 columns</p>\n",
       "</div>"
      ],
      "text/plain": [
       "                      Tile_ID         square   Block  \\\n",
       "0       65100_3175_25_x00_y00  65100_3175_25  20B022   \n",
       "1       65100_3175_25_x00_y01  65100_3175_25  20B022   \n",
       "2       65100_3175_25_x00_y02  65100_3175_25  20B022   \n",
       "3       65100_3175_25_x00_y03  65100_3175_25  20B022   \n",
       "4       65100_3175_25_x00_y04  65100_3175_25  20B022   \n",
       "...                       ...            ...     ...   \n",
       "569595  70500_7275_25_x09_y05  70500_7275_25  20F035   \n",
       "569596  70500_7275_25_x09_y06  70500_7275_25  20F035   \n",
       "569597  70500_7275_25_x09_y07  70500_7275_25  20F035   \n",
       "569598  70500_7275_25_x09_y08  70500_7275_25  20F035   \n",
       "569599  70500_7275_25_x09_y09  70500_7275_25  20F035   \n",
       "\n",
       "                            Las_Namn  x  y  \\\n",
       "0       20B022_65100_3175_25.laz.laz  0  0   \n",
       "1       20B022_65100_3175_25.laz.laz  0  1   \n",
       "2       20B022_65100_3175_25.laz.laz  0  2   \n",
       "3       20B022_65100_3175_25.laz.laz  0  3   \n",
       "4       20B022_65100_3175_25.laz.laz  0  4   \n",
       "...                              ... .. ..   \n",
       "569595  20F035_70500_7275_25.laz.laz  9  5   \n",
       "569596  20F035_70500_7275_25.laz.laz  9  6   \n",
       "569597  20F035_70500_7275_25.laz.laz  9  7   \n",
       "569598  20F035_70500_7275_25.laz.laz  9  8   \n",
       "569599  20F035_70500_7275_25.laz.laz  9  9   \n",
       "\n",
       "                                                 geometry  bio_ratio  \n",
       "0       POLYGON ((317500.000 6510000.000, 317750.000 6...        0.0  \n",
       "1       POLYGON ((317500.000 6510250.000, 317750.000 6...        0.0  \n",
       "2       POLYGON ((317500.000 6510500.000, 317750.000 6...        0.0  \n",
       "3       POLYGON ((317500.000 6510750.000, 317750.000 6...        0.0  \n",
       "4       POLYGON ((317500.000 6511000.000, 317750.000 6...        0.0  \n",
       "...                                                   ...        ...  \n",
       "569595  POLYGON ((729750.000 7051250.000, 730000.000 7...        0.0  \n",
       "569596  POLYGON ((729750.000 7051500.000, 730000.000 7...        0.0  \n",
       "569597  POLYGON ((729750.000 7051750.000, 730000.000 7...        0.0  \n",
       "569598  POLYGON ((729750.000 7052000.000, 730000.000 7...        0.0  \n",
       "569599  POLYGON ((729750.000 7052250.000, 730000.000 7...        0.0  \n",
       "\n",
       "[569600 rows x 8 columns]"
      ]
     },
     "execution_count": 25,
     "metadata": {},
     "output_type": "execute_result"
    }
   ],
   "source": [
    "tiles_gdf"
   ]
  },
  {
   "cell_type": "markdown",
   "id": "1aef4cda",
   "metadata": {},
   "source": [
    "## 2.3 Which Tiles Contain Key-biotopes?\n",
    "- To Do:\n",
    "1. Add a new column to the tiles' GeoDataFrame that labels a tile as 'contains key-biotopes' (value = 1) or 'doesn't contain key-biotopes (value = 0). This should depend on whether area occupied by key-biotopes in a tile exceed the threshold 50% of the total area."
   ]
  },
  {
   "cell_type": "code",
   "execution_count": 26,
   "id": "fc219470",
   "metadata": {},
   "outputs": [],
   "source": [
    "tiles_gdf['is_KeyBio'] = tiles_gdf['bio_ratio'].apply(lambda x: 1 if x >= THRESHOLD else 0)"
   ]
  },
  {
   "cell_type": "markdown",
   "id": "51713649",
   "metadata": {},
   "source": [
    "## 2.4 Write The Result\n",
    "- To Do:\n",
    "1. Write the tiles' GeoDataFrame into a shapefile to use in the next steps of the project."
   ]
  },
  {
   "cell_type": "code",
   "execution_count": 27,
   "id": "e7bc1032",
   "metadata": {},
   "outputs": [],
   "source": [
    "tiles_gdf.to_file('files/tiles_shapefiles/tiles.shp')"
   ]
  }
 ],
 "metadata": {
  "kernelspec": {
   "display_name": "geo_env",
   "language": "python",
   "name": "geo_env"
  },
  "language_info": {
   "codemirror_mode": {
    "name": "ipython",
    "version": 3
   },
   "file_extension": ".py",
   "mimetype": "text/x-python",
   "name": "python",
   "nbconvert_exporter": "python",
   "pygments_lexer": "ipython3",
   "version": "3.9.6"
  }
 },
 "nbformat": 4,
 "nbformat_minor": 5
}
