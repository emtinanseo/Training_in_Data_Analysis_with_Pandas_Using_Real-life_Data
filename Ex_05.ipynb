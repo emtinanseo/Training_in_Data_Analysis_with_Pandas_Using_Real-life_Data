{
 "cells": [
  {
   "cell_type": "markdown",
   "id": "8c73772a",
   "metadata": {},
   "source": [
    "# Project \n",
    "## Our Proposal\n",
    "We choose to divide key-biotopes by the types of habitats they contain. Then run a simple learning algorithm on Laser data (stored in `.laz` files) and see whether we can distinguish areas with that include particular Key-Biotopes from others.\n",
    "\n",
    "### Method:\n",
    "Laser measurements are available for square areas, 2.5 km X 2.5 km. To facilitate analysis, we will do it in steps:\n",
    "\n",
    "- **Step 1:** Divide these squares into smaller squares of equal areas (called henceforth tiles)\n",
    "- **Step 2:** Compute the percentage of area within a tile which is occupied by key-biotopes. Then, according to these percentages, label tiles for whether they contain key-bishops or not, i.e. a positive set and a negative set.\n",
    "- **Step 3:** From the laser data, compute a set of variables that characterize each tile.\n",
    "- **Step 4:** Apply a classification algorithm on the resulting dataset."
   ]
  },
  {
   "cell_type": "markdown",
   "id": "416a5aec",
   "metadata": {},
   "source": [
    "# Step 4\n",
    "\n",
    "Finally the data set is ready. Now we can use supervised learning, apply classification algorithms to the dataset and see whether the algorithm will be able to recognize key-biotopes reliably.\n",
    "\n",
    "## 4.1 Load and Clean The Dataset\n",
    "- To Do:\n",
    "1. Load the dataset prepared in the previous step.\n",
    "        - A ready to use dataset is provided in \"learning_data.csv\"\n",
    "2. Examine the numerical columns. What observations are there to be made regarding the distributions of the data?\n",
    "3. Is there any data that seems to be incorrect? Fix missing/incorrect data appropriately."
   ]
  },
  {
   "cell_type": "code",
   "execution_count": null,
   "id": "6d930bbe",
   "metadata": {
    "scrolled": true
   },
   "outputs": [],
   "source": []
  },
  {
   "cell_type": "markdown",
   "id": "9e1ed2ec",
   "metadata": {},
   "source": [
    "## 4.3 Preprocessing\n",
    "Prepare the dataset for use in a classification algorithm.\n",
    "Some classifiers calculate the Euclidean distance between two instances. If one of the features has a broad range of values, it will dominate this distance. For this reason all features can be divided by their maximum value, or mean, or some other suitable option.\n",
    "\n",
    "- To Do:\n",
    "1. (Normalize) Rescale features to have the same weight\n",
    "2. Split the dataset into a matrix of features and target list of labels"
   ]
  },
  {
   "cell_type": "code",
   "execution_count": null,
   "id": "9c122149",
   "metadata": {},
   "outputs": [],
   "source": []
  },
  {
   "cell_type": "markdown",
   "id": "f109383e",
   "metadata": {},
   "source": [
    "## 4.4 Classification\n",
    "Finally, having all the features in the right scalings, one can start experimenting with different classification algorithms.\n",
    "- To Do:\n",
    "- After obtaining a classification, it is important to evaluate it. Choose a suitable metric to measure the performance of the classification.\n",
    "- Split the data into a train set, a test set and a validation set if one wants to compare and choose between classification algorithms\n",
    "        - Test data is used only for assessing performance at the end of the process.\n",
    "        - Validation data is used explicitly to select the parameter/models with the best performance.\n",
    "        - Training data are used to learn the instance of the model from a model class."
   ]
  },
  {
   "cell_type": "code",
   "execution_count": null,
   "id": "638af3e3",
   "metadata": {},
   "outputs": [],
   "source": []
  },
  {
   "cell_type": "markdown",
   "id": "b4f2df72",
   "metadata": {},
   "source": [
    "# Discussion\n",
    "Reflecting on the problem as we stated it \"to recognize coniferous forests with high conservation value\", and on the solution we proposed. There were several choices we made along the way where one can make possible improvements. After some trials, it might be possible to conclude that the whole approach to summarize laser data is not appropriate. Instead, The problem may not be well stated.\n",
    "\n",
    "Possible directions for improvement:\n",
    "- Get more data\n",
    "- Use a different grouping of key-biotopes\n",
    "- Summarize laser data differently\n",
    "- Tweak parameters like the size of tiles and the threshold of area occupied by key-biotope\n",
    "- It might be more suitable to attempt a probabilistic classification, or a regression."
   ]
  }
 ],
 "metadata": {
  "kernelspec": {
   "display_name": "geo_env",
   "language": "python",
   "name": "geo_env"
  },
  "language_info": {
   "codemirror_mode": {
    "name": "ipython",
    "version": 3
   },
   "file_extension": ".py",
   "mimetype": "text/x-python",
   "name": "python",
   "nbconvert_exporter": "python",
   "pygments_lexer": "ipython3",
   "version": "3.9.6"
  }
 },
 "nbformat": 4,
 "nbformat_minor": 5
}
